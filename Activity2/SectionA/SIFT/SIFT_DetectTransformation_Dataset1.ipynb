{
  "nbformat": 4,
  "nbformat_minor": 0,
  "metadata": {
    "colab": {
      "name": "SIFT_DetectTransformation_Dataset1.ipynb",
      "provenance": [],
      "authorship_tag": "ABX9TyOCRECE+7kXBD810eVrrvx2"
    },
    "kernelspec": {
      "name": "python3",
      "display_name": "Python 3"
    },
    "language_info": {
      "name": "python"
    }
  },
  "cells": [
    {
      "cell_type": "code",
      "execution_count": 1,
      "metadata": {
        "id": "cF5OBn-npxwK"
      },
      "outputs": [],
      "source": [
        "import numpy as np\n",
        "import os"
      ]
    },
    {
      "cell_type": "code",
      "source": [
        "!pip install opencv-contrib-python==4.4.0.44\n",
        "import cv2 "
      ],
      "metadata": {
        "colab": {
          "base_uri": "https://localhost:8080/"
        },
        "id": "g893nOtcp6tv",
        "outputId": "0450ae04-c0cd-4b84-e239-7febe5ce5d5e"
      },
      "execution_count": 2,
      "outputs": [
        {
          "output_type": "stream",
          "name": "stdout",
          "text": [
            "Looking in indexes: https://pypi.org/simple, https://us-python.pkg.dev/colab-wheels/public/simple/\n",
            "Collecting opencv-contrib-python==4.4.0.44\n",
            "  Downloading opencv_contrib_python-4.4.0.44-cp37-cp37m-manylinux2014_x86_64.whl (55.7 MB)\n",
            "\u001b[K     |████████████████████████████████| 55.7 MB 1.2 MB/s \n",
            "\u001b[?25hRequirement already satisfied: numpy>=1.14.5 in /usr/local/lib/python3.7/dist-packages (from opencv-contrib-python==4.4.0.44) (1.21.6)\n",
            "Installing collected packages: opencv-contrib-python\n",
            "  Attempting uninstall: opencv-contrib-python\n",
            "    Found existing installation: opencv-contrib-python 4.1.2.30\n",
            "    Uninstalling opencv-contrib-python-4.1.2.30:\n",
            "      Successfully uninstalled opencv-contrib-python-4.1.2.30\n",
            "Successfully installed opencv-contrib-python-4.4.0.44\n"
          ]
        }
      ]
    },
    {
      "cell_type": "code",
      "source": [
        "# Create detector to compute SIFT\n",
        "sift = cv2.SIFT_create()"
      ],
      "metadata": {
        "id": "xjzrxaWrqBQs"
      },
      "execution_count": 4,
      "outputs": []
    },
    {
      "cell_type": "code",
      "source": [
        "queryImage_path = \"/content/Modelo.png\"\n",
        "trainImage_path = \"/content/t1.png\"\n",
        "\n",
        "queryImage = cv2.imread(queryImage_path, cv2.IMREAD_COLOR)\n",
        "trainImage = cv2.imread(trainImage_path, cv2.IMREAD_COLOR)"
      ],
      "metadata": {
        "id": "Mgyqkmq7qH1l"
      },
      "execution_count": 11,
      "outputs": []
    },
    {
      "cell_type": "code",
      "source": [
        "queryImage_keypoints = sift.detect(queryImage,None)\n",
        "trainImage_keypoints = sift.detect(trainImage, None)"
      ],
      "metadata": {
        "id": "zlHi3ybiqMb8"
      },
      "execution_count": 12,
      "outputs": []
    },
    {
      "cell_type": "code",
      "source": [
        "queryImage_keypoints, queryImage_descriptors = sift.compute(queryImage, queryImage_keypoints)\n",
        "trainImage_keypoints, trainImage_descriptors = sift.compute(trainImage, trainImage_keypoints)"
      ],
      "metadata": {
        "id": "CSa6BAwBqySx"
      },
      "execution_count": 13,
      "outputs": []
    },
    {
      "cell_type": "code",
      "source": [
        "bf = cv2.BFMatcher(cv2.NORM_L2, crossCheck=True)\n",
        "matches = bf.match(queryImage_descriptors, trainImage_descriptors)"
      ],
      "metadata": {
        "id": "KkqFOiU0q5bE"
      },
      "execution_count": 14,
      "outputs": []
    },
    {
      "cell_type": "code",
      "source": [
        "print(\"Number of Keypoints in query Image: \", len(queryImage_keypoints))\n",
        "print(\"Number of Keypoints in training Image: \", len(trainImage_keypoints))\n",
        "print(\"Number of Matching Keypoints Between The Training and Query Images: \", len(matches))"
      ],
      "metadata": {
        "colab": {
          "base_uri": "https://localhost:8080/"
        },
        "id": "p97dEZWjq9U7",
        "outputId": "274050a9-c01d-4439-dbcb-1b6f2f351836"
      },
      "execution_count": 15,
      "outputs": [
        {
          "output_type": "stream",
          "name": "stdout",
          "text": [
            "Number of Keypoints in query Image:  482\n",
            "Number of Keypoints in training Image:  440\n",
            "Number of Matching Keypoints Between The Training and Query Images:  249\n"
          ]
        }
      ]
    },
    {
      "cell_type": "code",
      "source": [
        "import random\n",
        "# get three random match indices which are not the same\n",
        "match_index_a = random.randint(0, len(matches) - 1)\n",
        "match_index_b = random.randint(0, len(matches) - 1)\n",
        "match_index_c = random.randint(0, len(matches) - 1)"
      ],
      "metadata": {
        "id": "uUnxw5XArH1Z"
      },
      "execution_count": 16,
      "outputs": []
    },
    {
      "cell_type": "code",
      "source": [
        "# get Keypoints from match indices\n",
        "# queryImage- keypoints\n",
        "queryImage_keypoint_a = queryImage_keypoints[matches[match_index_a].queryIdx]\n",
        "queryImage_keypoint_b = queryImage_keypoints[matches[match_index_b].queryIdx]\n",
        "queryImage_keypoint_c = queryImage_keypoints[matches[match_index_c].queryIdx]\n",
        "\n",
        "# trainImage-keypoints\n",
        "trainImage_keypoint_a = trainImage_keypoints[matches[match_index_a].trainIdx]\n",
        "trainImage_keypoint_b = trainImage_keypoints[matches[match_index_b].trainIdx]\n",
        "trainImage_keypoint_c = trainImage_keypoints[matches[match_index_c].trainIdx]"
      ],
      "metadata": {
        "id": "EVNM4KWcrOaI"
      },
      "execution_count": 17,
      "outputs": []
    },
    {
      "cell_type": "code",
      "source": [
        "# get affine transformation matrix from these 6 keypoints\n",
        "trainImage_points = np.float32([[trainImage_keypoint_a.pt[0], trainImage_keypoint_a.pt[1]],\n",
        "                                [trainImage_keypoint_b.pt[0], trainImage_keypoint_b.pt[1]],\n",
        "                                [trainImage_keypoint_c.pt[0], trainImage_keypoint_c.pt[1]]])\n",
        "\n",
        "queryImage_points = np.float32([[queryImage_keypoint_a.pt[0], queryImage_keypoint_a.pt[1]],\n",
        "                                [queryImage_keypoint_b.pt[0], queryImage_keypoint_b.pt[1]],\n",
        "                                [queryImage_keypoint_c.pt[0], queryImage_keypoint_c.pt[1]]])"
      ],
      "metadata": {
        "id": "GiD-4QSxrRPw"
      },
      "execution_count": 18,
      "outputs": []
    },
    {
      "cell_type": "code",
      "source": [
        "# get transformation matrix for current points\n",
        "currentMatrix = cv2.getAffineTransform(queryImage_points, trainImage_points)"
      ],
      "metadata": {
        "id": "aVLMFGQurT4K"
      },
      "execution_count": 19,
      "outputs": []
    },
    {
      "cell_type": "code",
      "source": [
        "print('Affine transformation')\n",
        "currentMatrix"
      ],
      "metadata": {
        "colab": {
          "base_uri": "https://localhost:8080/"
        },
        "id": "V3_RaOg5rWVI",
        "outputId": "1bdf312f-1fc3-4999-9980-0177dbac0365"
      },
      "execution_count": 20,
      "outputs": [
        {
          "output_type": "stream",
          "name": "stdout",
          "text": [
            "Affine transformation\n"
          ]
        },
        {
          "output_type": "execute_result",
          "data": {
            "text/plain": [
              "array([[ 0.60204571,  0.26142312, -0.46522812],\n",
              "       [-0.2645245 ,  0.60248971, 69.80716496]])"
            ]
          },
          "metadata": {},
          "execution_count": 20
        }
      ]
    }
  ]
}