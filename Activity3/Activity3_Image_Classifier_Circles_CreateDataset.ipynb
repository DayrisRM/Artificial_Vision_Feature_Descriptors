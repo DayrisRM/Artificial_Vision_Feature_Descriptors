{
  "nbformat": 4,
  "nbformat_minor": 0,
  "metadata": {
    "colab": {
      "name": "Activity3_Image_Classifier_Circles_CreateDataset.ipynb",
      "provenance": [],
      "authorship_tag": "ABX9TyOjLYkOqg4AuYLxygWY6Is7"
    },
    "kernelspec": {
      "name": "python3",
      "display_name": "Python 3"
    },
    "language_info": {
      "name": "python"
    }
  },
  "cells": [
    {
      "cell_type": "markdown",
      "source": [
        "-------Get Dataset------- \n",
        "\n",
        "\n"
      ],
      "metadata": {
        "id": "bY_LYs7o_go8"
      }
    },
    {
      "cell_type": "code",
      "execution_count": 1,
      "metadata": {
        "colab": {
          "resources": {
            "http://localhost:8080/nbextensions/google.colab/files.js": {
              "data": "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",
              "ok": true,
              "headers": [
                [
                  "content-type",
                  "application/javascript"
                ]
              ],
              "status": 200,
              "status_text": ""
            }
          },
          "base_uri": "https://localhost:8080/",
          "height": 73
        },
        "id": "JsqJZTDC9o7o",
        "outputId": "fa944792-e440-468a-9f09-012f55056f80"
      },
      "outputs": [
        {
          "output_type": "display_data",
          "data": {
            "text/plain": [
              "<IPython.core.display.HTML object>"
            ],
            "text/html": [
              "\n",
              "     <input type=\"file\" id=\"files-9b9b33e2-4403-4b08-a6e8-f5ca9fbb460a\" name=\"files[]\" multiple disabled\n",
              "        style=\"border:none\" />\n",
              "     <output id=\"result-9b9b33e2-4403-4b08-a6e8-f5ca9fbb460a\">\n",
              "      Upload widget is only available when the cell has been executed in the\n",
              "      current browser session. Please rerun this cell to enable.\n",
              "      </output>\n",
              "      <script src=\"/nbextensions/google.colab/files.js\"></script> "
            ]
          },
          "metadata": {}
        },
        {
          "output_type": "stream",
          "name": "stdout",
          "text": [
            "Saving dataset_v1.zip to dataset_v1.zip\n"
          ]
        }
      ],
      "source": [
        "from google.colab import files\n",
        "uploaded = files.upload()"
      ]
    },
    {
      "cell_type": "code",
      "source": [
        "import zipfile\n",
        "import io\n",
        "data = zipfile.ZipFile(io.BytesIO(uploaded['dataset_v1.zip']), 'r')\n",
        "data.extractall()"
      ],
      "metadata": {
        "id": "RQDy1JWf-OsN"
      },
      "execution_count": 2,
      "outputs": []
    },
    {
      "cell_type": "code",
      "source": [
        "import os\n",
        "import cv2"
      ],
      "metadata": {
        "id": "8q7SH9vg-T-c"
      },
      "execution_count": 3,
      "outputs": []
    },
    {
      "cell_type": "code",
      "source": [
        "data.printdir()"
      ],
      "metadata": {
        "id": "q1WEdCFK_2OS"
      },
      "execution_count": null,
      "outputs": []
    },
    {
      "cell_type": "code",
      "source": [
        "dir_dataset_circles_directory = \"/content/dataset_circles\"\n",
        "dir_sanos_directory = \"/content/dataset_sanos\"\n",
        "dir_nosanos_directory = \"/content/dataset_nosanos\""
      ],
      "metadata": {
        "id": "2Px4wbSvDzqj"
      },
      "execution_count": 4,
      "outputs": []
    },
    {
      "cell_type": "code",
      "source": [
        "def saveImagesToDataset(directory_images, class_name):\n",
        "  dir_images = os.listdir(directory_images)\n",
        "  for folder in dir_images:\n",
        "    dir_image = f'{directory_images}/{folder}'  \n",
        "    dir_in_images = os.listdir(dir_image)\n",
        "    for images in dir_in_images:\n",
        "      if images.startswith(\"circulo\"): \n",
        "        dir_image_circle = f'{directory_images}/{folder}/{images}'\n",
        "        image=cv2.imread(dir_image_circle)        \n",
        "        image_to_save_name = class_name + \"-\" + folder + \"-\" + images;\n",
        "        image_to_save_directory = f'{dir_dataset_circles_directory}/{image_to_save_name}'    \n",
        "        print(image_to_save_directory)   \n",
        "        cv2.imwrite(image_to_save_directory,image)\n"
      ],
      "metadata": {
        "id": "lhS8yh-BD7dK"
      },
      "execution_count": 5,
      "outputs": []
    },
    {
      "cell_type": "code",
      "source": [
        "saveImagesToDataset(dir_sanos_directory, \"sanos\")"
      ],
      "metadata": {
        "colab": {
          "base_uri": "https://localhost:8080/"
        },
        "id": "F4ICzPQaEnrx",
        "outputId": "b2bf7573-f3a6-4c33-88db-ebb4bc283362"
      },
      "execution_count": 6,
      "outputs": [
        {
          "output_type": "stream",
          "name": "stdout",
          "text": [
            "/content/dataset_circles/sanos-id101-circulo2.png\n",
            "/content/dataset_circles/sanos-id101-circulo4.png\n",
            "/content/dataset_circles/sanos-id101-circulo3.png\n",
            "/content/dataset_circles/sanos-id101-circulo1.png\n",
            "/content/dataset_circles/sanos-id2-circulo2.png\n",
            "/content/dataset_circles/sanos-id2-circulo4.png\n",
            "/content/dataset_circles/sanos-id2-circulo3.png\n",
            "/content/dataset_circles/sanos-id2-circulo1.png\n",
            "/content/dataset_circles/sanos-id2-circulo5.png\n",
            "/content/dataset_circles/sanos-id118-circulo2.png\n",
            "/content/dataset_circles/sanos-id118-circulo4.png\n",
            "/content/dataset_circles/sanos-id118-circulo3.png\n",
            "/content/dataset_circles/sanos-id118-circulo1.png\n",
            "/content/dataset_circles/sanos-id118-circulo5.png\n",
            "/content/dataset_circles/sanos-id121-circulo2.png\n",
            "/content/dataset_circles/sanos-id121-circulo3.png\n",
            "/content/dataset_circles/sanos-id121-circulo1.png\n",
            "/content/dataset_circles/sanos-id110-circulo2.png\n",
            "/content/dataset_circles/sanos-id110-circulo3.png\n",
            "/content/dataset_circles/sanos-id110-circulo1.png\n",
            "/content/dataset_circles/sanos-id103-circulo2.png\n",
            "/content/dataset_circles/sanos-id103-circulo4.png\n",
            "/content/dataset_circles/sanos-id103-circulo3.png\n",
            "/content/dataset_circles/sanos-id103-circulo1.png\n",
            "/content/dataset_circles/sanos-id122-circulo2.png\n",
            "/content/dataset_circles/sanos-id122-circulo4.png\n",
            "/content/dataset_circles/sanos-id122-circulo3.png\n",
            "/content/dataset_circles/sanos-id122-circulo1.png\n",
            "/content/dataset_circles/sanos-id122-circulo5.png\n",
            "/content/dataset_circles/sanos-id108-circulo2.png\n",
            "/content/dataset_circles/sanos-id108-circulo4.png\n",
            "/content/dataset_circles/sanos-id108-circulo3.png\n",
            "/content/dataset_circles/sanos-id108-circulo1.png\n",
            "/content/dataset_circles/sanos-id108-circulo5.png\n",
            "/content/dataset_circles/sanos-id33-circulo2.png\n",
            "/content/dataset_circles/sanos-id33-circulo4.png\n",
            "/content/dataset_circles/sanos-id33-circulo3.png\n",
            "/content/dataset_circles/sanos-id33-circulo1.png\n",
            "/content/dataset_circles/sanos-id33-circulo5.png\n",
            "/content/dataset_circles/sanos-id28-circulo2.png\n",
            "/content/dataset_circles/sanos-id28-circulo4.png\n",
            "/content/dataset_circles/sanos-id28-circulo3.png\n",
            "/content/dataset_circles/sanos-id28-circulo1.png\n",
            "/content/dataset_circles/sanos-id28-circulo5.png\n",
            "/content/dataset_circles/sanos-id107-circulo2.png\n",
            "/content/dataset_circles/sanos-id107-circulo3.png\n",
            "/content/dataset_circles/sanos-id107-circulo1.png\n",
            "/content/dataset_circles/sanos-id3-circulo2.png\n",
            "/content/dataset_circles/sanos-id3-circulo3.png\n",
            "/content/dataset_circles/sanos-id3-circulo1.png\n",
            "/content/dataset_circles/sanos-id31-circulo2.png\n",
            "/content/dataset_circles/sanos-id31-circulo4.png\n",
            "/content/dataset_circles/sanos-id31-circulo3.png\n",
            "/content/dataset_circles/sanos-id31-circulo1.png\n",
            "/content/dataset_circles/sanos-id31-circulo5.png\n",
            "/content/dataset_circles/sanos-id29-circulo2.png\n",
            "/content/dataset_circles/sanos-id29-circulo4.png\n",
            "/content/dataset_circles/sanos-id29-circulo3.png\n",
            "/content/dataset_circles/sanos-id29-circulo1.png\n",
            "/content/dataset_circles/sanos-id113-circulo2.png\n",
            "/content/dataset_circles/sanos-id113-circulo4.png\n",
            "/content/dataset_circles/sanos-id113-circulo3.png\n",
            "/content/dataset_circles/sanos-id113-circulo1.png\n",
            "/content/dataset_circles/sanos-id113-circulo5.png\n",
            "/content/dataset_circles/sanos-id102-circulo2.png\n",
            "/content/dataset_circles/sanos-id102-circulo4.png\n",
            "/content/dataset_circles/sanos-id102-circulo3.png\n",
            "/content/dataset_circles/sanos-id102-circulo1.png\n"
          ]
        }
      ]
    },
    {
      "cell_type": "code",
      "source": [
        "saveImagesToDataset(dir_nosanos_directory, \"nosanos\")"
      ],
      "metadata": {
        "id": "ac_345ECFr_H"
      },
      "execution_count": null,
      "outputs": []
    },
    {
      "cell_type": "code",
      "source": [
        "!zip -r '/content/dataset_circles/dataset_circles1.zip' '/content/dataset_circles/'"
      ],
      "metadata": {
        "colab": {
          "base_uri": "https://localhost:8080/"
        },
        "id": "GshrgA7BrAHf",
        "outputId": "ff3fd62b-1658-42b7-b9b0-3b16b6eb09f3"
      },
      "execution_count": 11,
      "outputs": [
        {
          "output_type": "stream",
          "name": "stdout",
          "text": [
            "  adding: content/dataset_circles/ (stored 0%)\n",
            "  adding: content/dataset_circles/nosanos-id39-circulo3.png (deflated 16%)\n",
            "  adding: content/dataset_circles/nosanos-id235-circulo3.png (deflated 31%)\n",
            "  adding: content/dataset_circles/nosanos-id235-circulo1.png (deflated 28%)\n",
            "  adding: content/dataset_circles/sanos-id2-circulo4.png (deflated 14%)\n",
            "  adding: content/dataset_circles/sanos-id113-circulo5.png (deflated 14%)\n",
            "  adding: content/dataset_circles/nosanos-id416-circulo1.png (deflated 21%)\n",
            "  adding: content/dataset_circles/sanos-id3-circulo2.png (deflated 0%)\n",
            "  adding: content/dataset_circles/nosanos-id105-circulo1.png (deflated 14%)\n",
            "  adding: content/dataset_circles/nosanos-id34-circulo4.png (deflated 16%)\n",
            "  adding: content/dataset_circles/nosanos-id416-circulo3.png (deflated 39%)\n",
            "  adding: content/dataset_circles/nosanos-id139-circulo1.png (deflated 17%)\n",
            "  adding: content/dataset_circles/sanos-id107-circulo1.png (deflated 18%)\n",
            "  adding: content/dataset_circles/nosanos-id109-circulo2.png (deflated 14%)\n",
            "  adding: content/dataset_circles/nosanos-id229-circulo2.png (deflated 24%)\n",
            "  adding: content/dataset_circles/nosanos-id39-circulo5.png (deflated 14%)\n",
            "  adding: content/dataset_circles/nosanos-id39-circulo2.png (deflated 14%)\n",
            "  adding: content/dataset_circles/\"dataset_circles.zip\" (deflated 1%)\n",
            "  adding: content/dataset_circles/sanos-id122-circulo4.png (deflated 14%)\n",
            "  adding: content/dataset_circles/sanos-id31-circulo5.png (deflated 11%)\n",
            "  adding: content/dataset_circles/nosanos-id214-circulo4.png (deflated 20%)\n",
            "  adding: content/dataset_circles/sanos-id101-circulo4.png (deflated 16%)\n",
            "  adding: content/dataset_circles/nosanos-id139-circulo2.png (deflated 17%)\n",
            "  adding: content/dataset_circles/nosanos-id119-circulo1.png (deflated 19%)\n",
            "  adding: content/dataset_circles/nosanos-id27-circulo3.png (deflated 15%)\n",
            "  adding: content/dataset_circles/sanos-id33-circulo4.png (deflated 13%)\n",
            "  adding: content/dataset_circles/sanos-id101-circulo2.png (deflated 18%)\n",
            "  adding: content/dataset_circles/nosanos-id34-circulo3.png (deflated 15%)\n",
            "  adding: content/dataset_circles/nosanos-id15-circulo3.png (deflated 16%)\n",
            "  adding: content/dataset_circles/nosanos-id139-circulo3.png (deflated 16%)\n",
            "  adding: content/dataset_circles/nosanos-id117-circulo5.png (deflated 14%)\n",
            "  adding: content/dataset_circles/nosanos-id119-circulo6.png (deflated 12%)\n",
            "  adding: content/dataset_circles/sanos-id108-circulo3.png (deflated 14%)\n",
            "  adding: content/dataset_circles/sanos-id110-circulo1.png (deflated 16%)\n",
            "  adding: content/dataset_circles/sanos-id102-circulo1.png (deflated 18%)\n",
            "  adding: content/dataset_circles/nosanos-id39-circulo4.png (deflated 13%)\n",
            "  adding: content/dataset_circles/nosanos-id414-circulo2.png (deflated 24%)\n",
            "  adding: content/dataset_circles/sanos-id118-circulo2.png (deflated 18%)\n",
            "  adding: content/dataset_circles/sanos-id110-circulo3.png (deflated 17%)\n",
            "  adding: content/dataset_circles/nosanos-id425-circulo3.png (deflated 20%)\n",
            "  adding: content/dataset_circles/sanos-id108-circulo1.png (deflated 18%)\n",
            "  adding: content/dataset_circles/nosanos-id527-circulo3.png (deflated 7%)\n",
            "  adding: content/dataset_circles/nosanos-id119-circulo5.png (deflated 15%)\n",
            "  adding: content/dataset_circles/nosanos-id228-circulo2.png (deflated 33%)\n",
            "  adding: content/dataset_circles/sanos-id29-circulo1.png (deflated 17%)\n",
            "  adding: content/dataset_circles/nosanos-id119-circulo4.png (deflated 17%)\n",
            "  adding: content/dataset_circles/nosanos-id229-circulo5.png (deflated 38%)\n",
            "  adding: content/dataset_circles/nosanos-id19-circulo5.png (deflated 17%)\n",
            "  adding: content/dataset_circles/nosanos-id227-circulo2.png (deflated 17%)\n",
            "  adding: content/dataset_circles/nosanos-id27-circulo1.png (deflated 16%)\n",
            "  adding: content/dataset_circles/nosanos-id227-circulo1.png (deflated 19%)\n",
            "  adding: content/dataset_circles/sanos-id33-circulo3.png (deflated 14%)\n",
            "  adding: content/dataset_circles/nosanos-id235-circulo2.png (deflated 36%)\n",
            "  adding: content/dataset_circles/nosanos-id117-circulo2.png (deflated 13%)\n",
            "  adding: content/dataset_circles/sanos-id103-circulo4.png (deflated 11%)\n",
            "  adding: content/dataset_circles/nosanos-id15-circulo4.png (deflated 16%)\n",
            "  adding: content/dataset_circles/nosanos-id39-circulo1.png (deflated 18%)\n",
            "  adding: content/dataset_circles/sanos-id28-circulo4.png (deflated 12%)\n",
            "  adding: content/dataset_circles/sanos-id102-circulo3.png (deflated 15%)\n",
            "  adding: content/dataset_circles/sanos-id121-circulo3.png (deflated 18%)\n",
            "  adding: content/dataset_circles/nosanos-id10-circulo3.png (deflated 12%)\n",
            "  adding: content/dataset_circles/nosanos-id414-circulo1.png (deflated 16%)\n",
            "  adding: content/dataset_circles/nosanos-id409-circulo2.png (deflated 17%)\n",
            "  adding: content/dataset_circles/nosanos-id527-circulo1.png (deflated 8%)\n",
            "  adding: content/dataset_circles/nosanos-id229-circulo3.png (deflated 27%)\n",
            "  adding: content/dataset_circles/sanos-id29-circulo3.png (deflated 16%)\n",
            "  adding: content/dataset_circles/sanos-id122-circulo5.png (deflated 15%)\n",
            "  adding: content/dataset_circles/nosanos-id19-circulo6.png (deflated 11%)\n",
            "  adding: content/dataset_circles/sanos-id122-circulo1.png (deflated 16%)\n",
            "  adding: content/dataset_circles/nosanos-id24-circulo2.png (deflated 15%)\n",
            "  adding: content/dataset_circles/sanos-id28-circulo2.png (deflated 12%)\n",
            "  adding: content/dataset_circles/sanos-id118-circulo1.png (deflated 18%)\n",
            "  adding: content/dataset_circles/sanos-id28-circulo3.png (deflated 13%)\n",
            "  adding: content/dataset_circles/sanos-id31-circulo2.png (deflated 14%)\n",
            "  adding: content/dataset_circles/nosanos-id24-circulo3.png (deflated 18%)\n",
            "  adding: content/dataset_circles/sanos-id102-circulo2.png (deflated 13%)\n",
            "  adding: content/dataset_circles/sanos-id121-circulo2.png (deflated 18%)\n",
            "  adding: content/dataset_circles/sanos-id29-circulo4.png (deflated 12%)\n",
            "  adding: content/dataset_circles/sanos-id107-circulo2.png (deflated 25%)\n",
            "  adding: content/dataset_circles/nosanos-id25-circulo1.png (deflated 16%)\n",
            "  adding: content/dataset_circles/nosanos-id119-circulo7.png (deflated 13%)\n",
            "  adding: content/dataset_circles/sanos-id31-circulo1.png (deflated 16%)\n",
            "  adding: content/dataset_circles/nosanos-id425-circulo4.png (deflated 37%)\n",
            "  adding: content/dataset_circles/sanos-id118-circulo3.png (deflated 23%)\n",
            "  adding: content/dataset_circles/nosanos-id24-circulo1.png (deflated 25%)\n",
            "  adding: content/dataset_circles/nosanos-id227-circulo3.png (deflated 16%)\n",
            "  adding: content/dataset_circles/nosanos-id117-circulo1.png (deflated 17%)\n",
            "  adding: content/dataset_circles/sanos-id113-circulo4.png (deflated 13%)\n",
            "  adding: content/dataset_circles/sanos-id118-circulo4.png (deflated 14%)\n",
            "  adding: content/dataset_circles/nosanos-id409-circulo3.png (deflated 14%)\n",
            "  adding: content/dataset_circles/dataset_circles.zip (stored 0%)\n",
            "  adding: content/dataset_circles/nosanos-id209-circulo3.png (deflated 33%)\n",
            "  adding: content/dataset_circles/sanos-id103-circulo3.png (deflated 14%)\n",
            "  adding: content/dataset_circles/nosanos-id25-circulo2.png (deflated 14%)\n",
            "  adding: content/dataset_circles/sanos-id33-circulo1.png (deflated 18%)\n",
            "  adding: content/dataset_circles/sanos-id33-circulo2.png (deflated 16%)\n",
            "  adding: content/dataset_circles/sanos-id31-circulo3.png (deflated 13%)\n",
            "  adding: content/dataset_circles/sanos-id2-circulo5.png (deflated 16%)\n",
            "  adding: content/dataset_circles/nosanos-id119-circulo2.png (deflated 17%)\n",
            "  adding: content/dataset_circles/nosanos-id119-circulo3.png (deflated 20%)\n",
            "  adding: content/dataset_circles/nosanos-id425-circulo1.png (deflated 23%)\n",
            "  adding: content/dataset_circles/nosanos-id27-circulo2.png (deflated 15%)\n",
            "  adding: content/dataset_circles/nosanos-id19-circulo3.png (deflated 25%)\n",
            "  adding: content/dataset_circles/sanos-id103-circulo1.png (deflated 13%)\n",
            "  adding: content/dataset_circles/nosanos-id414-circulo3.png (deflated 17%)\n",
            "  adding: content/dataset_circles/nosanos-id19-circulo2.png (deflated 14%)\n",
            "  adding: content/dataset_circles/nosanos-id19-circulo1.png (deflated 20%)\n",
            "  adding: content/dataset_circles/nosanos-id25-circulo3.png (deflated 16%)\n",
            "  adding: content/dataset_circles/nosanos-id229-circulo1.png (deflated 26%)\n",
            "  adding: content/dataset_circles/nosanos-id15-circulo1.png (deflated 20%)\n",
            "  adding: content/dataset_circles/nosanos-id15-circulo2.png (deflated 16%)\n",
            "  adding: content/dataset_circles/nosanos-id209-circulo2.png (deflated 30%)\n",
            "  adding: content/dataset_circles/nosanos-id10-circulo1.png (deflated 16%)\n",
            "  adding: content/dataset_circles/sanos-id110-circulo2.png (deflated 15%)\n",
            "  adding: content/dataset_circles/nosanos-id34-circulo2.png (deflated 15%)\n",
            "  adding: content/dataset_circles/sanos-id107-circulo3.png (deflated 17%)\n",
            "  adding: content/dataset_circles/nosanos-id19-circulo4.png (deflated 16%)\n",
            "  adding: content/dataset_circles/sanos-id28-circulo1.png (deflated 10%)\n",
            "  adding: content/dataset_circles/sanos-id31-circulo4.png (deflated 11%)\n",
            "  adding: content/dataset_circles/sanos-id113-circulo1.png (deflated 15%)\n",
            "  adding: content/dataset_circles/nosanos-id109-circulo3.png (deflated 25%)\n",
            "  adding: content/dataset_circles/sanos-id33-circulo5.png (deflated 14%)\n",
            "  adding: content/dataset_circles/sanos-id108-circulo5.png (deflated 12%)\n",
            "  adding: content/dataset_circles/nosanos-id214-circulo1.png (deflated 20%)\n",
            "  adding: content/dataset_circles/sanos-id108-circulo2.png (deflated 15%)\n",
            "  adding: content/dataset_circles/sanos-id3-circulo1.png (deflated 3%)\n",
            "  adding: content/dataset_circles/sanos-id3-circulo3.png (deflated 3%)\n",
            "  adding: content/dataset_circles/nosanos-id416-circulo2.png (deflated 33%)\n",
            "  adding: content/dataset_circles/nosanos-id527-circulo2.png (deflated 13%)\n",
            "  adding: content/dataset_circles/nosanos-id15-circulo6.png (deflated 14%)\n",
            "  adding: content/dataset_circles/nosanos-id409-circulo1.png (deflated 13%)\n",
            "  adding: content/dataset_circles/sanos-id29-circulo2.png (deflated 19%)\n",
            "  adding: content/dataset_circles/nosanos-id105-circulo2.png (deflated 15%)\n",
            "  adding: content/dataset_circles/nosanos-id10-circulo2.png (deflated 14%)\n",
            "  adding: content/dataset_circles/nosanos-id15-circulo5.png (deflated 14%)\n",
            "  adding: content/dataset_circles/nosanos-id214-circulo2.png (deflated 19%)\n",
            "  adding: content/dataset_circles/nosanos-id425-circulo5.png (deflated 38%)\n",
            "  adding: content/dataset_circles/nosanos-id139-circulo4.png (deflated 22%)\n",
            "  adding: content/dataset_circles/sanos-id2-circulo3.png (deflated 11%)\n",
            "  adding: content/dataset_circles/sanos-id108-circulo4.png (deflated 13%)\n",
            "  adding: content/dataset_circles/sanos-id2-circulo2.png (deflated 11%)\n",
            "  adding: content/dataset_circles/sanos-id122-circulo2.png (deflated 16%)\n",
            "  adding: content/dataset_circles/sanos-id122-circulo3.png (deflated 22%)\n",
            "  adding: content/dataset_circles/sanos-id28-circulo5.png (deflated 17%)\n",
            "  adding: content/dataset_circles/nosanos-id228-circulo4.png (deflated 14%)\n",
            "  adding: content/dataset_circles/sanos-id103-circulo2.png (deflated 14%)\n",
            "  adding: content/dataset_circles/sanos-id121-circulo1.png (deflated 17%)\n",
            "  adding: content/dataset_circles/nosanos-id425-circulo2.png (deflated 39%)\n",
            "  adding: content/dataset_circles/nosanos-id228-circulo5.png (deflated 14%)\n",
            "  adding: content/dataset_circles/nosanos-id109-circulo1.png (deflated 27%)\n",
            "  adding: content/dataset_circles/nosanos-id34-circulo1.png (deflated 21%)\n",
            "  adding: content/dataset_circles/sanos-id2-circulo1.png (deflated 14%)\n",
            "  adding: content/dataset_circles/nosanos-id117-circulo4.png (deflated 25%)\n",
            "  adding: content/dataset_circles/nosanos-id214-circulo3.png (deflated 14%)\n",
            "  adding: content/dataset_circles/sanos-id113-circulo3.png (deflated 14%)\n",
            "  adding: content/dataset_circles/nosanos-id105-circulo3.png (deflated 14%)\n",
            "  adding: content/dataset_circles/sanos-id113-circulo2.png (deflated 14%)\n",
            "  adding: content/dataset_circles/sanos-id118-circulo5.png (deflated 14%)\n",
            "  adding: content/dataset_circles/sanos-id101-circulo1.png (deflated 17%)\n",
            "  adding: content/dataset_circles/sanos-id101-circulo3.png (deflated 15%)\n",
            "  adding: content/dataset_circles/nosanos-id228-circulo3.png (deflated 18%)\n",
            "  adding: content/dataset_circles/nosanos-id117-circulo3.png (deflated 15%)\n",
            "  adding: content/dataset_circles/sanos-id102-circulo4.png (deflated 13%)\n",
            "  adding: content/dataset_circles/nosanos-id229-circulo4.png (deflated 34%)\n"
          ]
        }
      ]
    }
  ]
}