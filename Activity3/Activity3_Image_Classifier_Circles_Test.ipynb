{
  "nbformat": 4,
  "nbformat_minor": 0,
  "metadata": {
    "colab": {
      "name": "Activity3_Image_Classifier_Circles_Test.ipynb",
      "provenance": [],
      "authorship_tag": "ABX9TyMqBCGWF+Yp7O8BsffoL7PB"
    },
    "kernelspec": {
      "name": "python3",
      "display_name": "Python 3"
    },
    "language_info": {
      "name": "python"
    }
  },
  "cells": [
    {
      "cell_type": "code",
      "execution_count": 1,
      "metadata": {
        "id": "VmfDucoWtYBM"
      },
      "outputs": [],
      "source": [
        "import os\n",
        "import matplotlib.pyplot as plt\n",
        "import matplotlib.image as mpimg\n",
        "import numpy as np\n",
        "import cv2\n",
        "import sys\n",
        "import math\n",
        "import numpy as np"
      ]
    },
    {
      "cell_type": "code",
      "source": [
        "from google.colab import files\n",
        "uploaded = files.upload()"
      ],
      "metadata": {
        "colab": {
          "resources": {
            "http://localhost:8080/nbextensions/google.colab/files.js": {
              "data": "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",
              "ok": true,
              "headers": [
                [
                  "content-type",
                  "application/javascript"
                ]
              ],
              "status": 200,
              "status_text": ""
            }
          },
          "base_uri": "https://localhost:8080/",
          "height": 73
        },
        "id": "1haxQCL8ug_o",
        "outputId": "299f253d-78eb-47fc-de06-156ab0d85c5b"
      },
      "execution_count": 3,
      "outputs": [
        {
          "output_type": "display_data",
          "data": {
            "text/plain": [
              "<IPython.core.display.HTML object>"
            ],
            "text/html": [
              "\n",
              "     <input type=\"file\" id=\"files-64e1741d-c77c-45cf-a83b-2f2127c11868\" name=\"files[]\" multiple disabled\n",
              "        style=\"border:none\" />\n",
              "     <output id=\"result-64e1741d-c77c-45cf-a83b-2f2127c11868\">\n",
              "      Upload widget is only available when the cell has been executed in the\n",
              "      current browser session. Please rerun this cell to enable.\n",
              "      </output>\n",
              "      <script src=\"/nbextensions/google.colab/files.js\"></script> "
            ]
          },
          "metadata": {}
        },
        {
          "output_type": "stream",
          "name": "stdout",
          "text": [
            "Saving dataset_circles.zip to dataset_circles.zip\n"
          ]
        }
      ]
    },
    {
      "cell_type": "code",
      "source": [
        "import zipfile\n",
        "import io\n",
        "data = zipfile.ZipFile(io.BytesIO(uploaded['dataset_circles.zip']), 'r')\n",
        "data.extractall()"
      ],
      "metadata": {
        "id": "ZMGTJooRuqL_"
      },
      "execution_count": 4,
      "outputs": []
    },
    {
      "cell_type": "code",
      "source": [
        "dir_dataset_circles_directory = \"/content/dataset_circles\""
      ],
      "metadata": {
        "id": "JVrcTkA7uy-2"
      },
      "execution_count": 5,
      "outputs": []
    },
    {
      "cell_type": "code",
      "source": [
        "def detectCircles(image_name, directory):\n",
        "  dir_image = f'{directory}/{image_name}'  \n",
        "  # Read image as gray-scale\n",
        "  img = cv2.imread(dir_image, cv2.IMREAD_COLOR)  \n",
        "  # Convert to gray-scale\n",
        "  gray = cv2.cvtColor(img, cv2.COLOR_BGR2GRAY)\n",
        "  #plt.imshow(gray)\n",
        "  #plt.show()\n",
        "  # Blur the image to reduce noise\n",
        "  img_blur = cv2.medianBlur(gray, 1)\n",
        "  #plt.imshow(img_blur)\n",
        "  #plt.show()   \n",
        "  # Apply hough transform on the image\n",
        "  circles = cv2.HoughCircles(img_blur, cv2.HOUGH_GRADIENT, 1, img.shape[0]/64, param1=200, param2=10, minRadius=5, maxRadius=30)\n",
        "  circlesToReturn = 0\n",
        "  # Draw detected circles\n",
        "  if circles is not None:\n",
        "      #print(circles.size)\n",
        "      circlesToReturn = circles.size\n",
        "      circles = np.uint16(np.around(circles))\n",
        "      for i in circles[0, :]:\n",
        "          # Draw outer circle\n",
        "          cv2.circle(img, (i[0], i[1]), i[2], (0, 255, 0), 2)\n",
        "          # Draw inner circle\n",
        "          cv2.circle(img, (i[0], i[1]), 2, (0, 0, 255), 3)\n",
        "  else:\n",
        "     print(\"No circles\")\n",
        "  \n",
        "  return circlesToReturn\n",
        "\n",
        "  #plt.imshow(img)\n",
        "  #plt.show() "
      ],
      "metadata": {
        "id": "8bDEnvGSt7aY"
      },
      "execution_count": 30,
      "outputs": []
    },
    {
      "cell_type": "code",
      "source": [
        "circlesModel = detectCircles(\"circulo.png\", \"/content/\")\n",
        "toPrintModel = f'Model---{circlesModel}' \n",
        "print(toPrintModel)\n"
      ],
      "metadata": {
        "colab": {
          "base_uri": "https://localhost:8080/"
        },
        "id": "JS0CHH7lwKWl",
        "outputId": "9e483cad-aec9-40c0-b624-519522898d71"
      },
      "execution_count": 35,
      "outputs": [
        {
          "output_type": "stream",
          "name": "stdout",
          "text": [
            "Model---138\n"
          ]
        }
      ]
    },
    {
      "cell_type": "code",
      "source": [
        "dir_circles_images = os.listdir(dir_dataset_circles_directory)\n",
        "for image_name in dir_circles_images:\n",
        "  if image_name.startswith(\"nosano\"):\n",
        "    circles_nosanos = detectCircles(image_name, dir_dataset_circles_directory)\n",
        "    percent = round(circles_nosanos / circlesModel, 2)\n",
        "    toPrint = f'{image_name}---{circles_nosanos} -- {percent}' \n",
        "    print(toPrint)\n",
        "    "
      ],
      "metadata": {
        "colab": {
          "base_uri": "https://localhost:8080/"
        },
        "id": "smX22aZhu7Oe",
        "outputId": "514eff3d-3970-4f66-f2a5-5e7f7f0ccd90"
      },
      "execution_count": 40,
      "outputs": [
        {
          "output_type": "stream",
          "name": "stdout",
          "text": [
            "nosanos-id39-circulo3.png---99 -- 0.72\n",
            "nosanos-id235-circulo3.png---225 -- 1.63\n",
            "nosanos-id235-circulo1.png---318 -- 2.3\n",
            "nosanos-id416-circulo1.png---81 -- 0.59\n",
            "nosanos-id105-circulo1.png---63 -- 0.46\n",
            "nosanos-id34-circulo4.png---99 -- 0.72\n",
            "nosanos-id416-circulo3.png---327 -- 2.37\n",
            "nosanos-id139-circulo1.png---51 -- 0.37\n",
            "nosanos-id109-circulo2.png---63 -- 0.46\n",
            "nosanos-id229-circulo2.png---57 -- 0.41\n",
            "nosanos-id39-circulo5.png---81 -- 0.59\n",
            "nosanos-id39-circulo2.png---132 -- 0.96\n",
            "nosanos-id214-circulo4.png---81 -- 0.59\n",
            "nosanos-id139-circulo2.png---51 -- 0.37\n",
            "nosanos-id119-circulo1.png---81 -- 0.59\n",
            "nosanos-id27-circulo3.png---48 -- 0.35\n",
            "nosanos-id34-circulo3.png---66 -- 0.48\n",
            "nosanos-id15-circulo3.png---150 -- 1.09\n",
            "nosanos-id139-circulo3.png---69 -- 0.5\n",
            "nosanos-id117-circulo5.png---93 -- 0.67\n",
            "nosanos-id119-circulo6.png---66 -- 0.48\n",
            "nosanos-id39-circulo4.png---78 -- 0.57\n",
            "nosanos-id414-circulo2.png---87 -- 0.63\n",
            "nosanos-id425-circulo3.png---186 -- 1.35\n",
            "nosanos-id527-circulo3.png---78 -- 0.57\n",
            "nosanos-id119-circulo5.png---54 -- 0.39\n",
            "nosanos-id228-circulo2.png---69 -- 0.5\n",
            "nosanos-id119-circulo4.png---60 -- 0.43\n",
            "nosanos-id229-circulo5.png---30 -- 0.22\n",
            "nosanos-id19-circulo5.png---48 -- 0.35\n",
            "nosanos-id227-circulo2.png---66 -- 0.48\n",
            "nosanos-id27-circulo1.png---60 -- 0.43\n",
            "nosanos-id227-circulo1.png---69 -- 0.5\n",
            "nosanos-id235-circulo2.png---42 -- 0.3\n",
            "nosanos-id117-circulo2.png---63 -- 0.46\n",
            "nosanos-id15-circulo4.png---45 -- 0.33\n",
            "nosanos-id39-circulo1.png---78 -- 0.57\n",
            "nosanos-id10-circulo3.png---114 -- 0.83\n",
            "nosanos-id414-circulo1.png---60 -- 0.43\n",
            "nosanos-id409-circulo2.png---51 -- 0.37\n",
            "nosanos-id527-circulo1.png---42 -- 0.3\n",
            "nosanos-id229-circulo3.png---45 -- 0.33\n",
            "nosanos-id19-circulo6.png---87 -- 0.63\n",
            "nosanos-id24-circulo2.png---36 -- 0.26\n",
            "nosanos-id24-circulo3.png---66 -- 0.48\n",
            "nosanos-id25-circulo1.png---90 -- 0.65\n",
            "nosanos-id119-circulo7.png---72 -- 0.52\n",
            "nosanos-id425-circulo4.png---297 -- 2.15\n",
            "nosanos-id24-circulo1.png---60 -- 0.43\n",
            "nosanos-id227-circulo3.png---63 -- 0.46\n",
            "nosanos-id117-circulo1.png---78 -- 0.57\n",
            "nosanos-id409-circulo3.png---45 -- 0.33\n",
            "nosanos-id209-circulo3.png---69 -- 0.5\n",
            "nosanos-id25-circulo2.png---87 -- 0.63\n",
            "nosanos-id119-circulo2.png---54 -- 0.39\n",
            "nosanos-id119-circulo3.png---72 -- 0.52\n",
            "nosanos-id425-circulo1.png---42 -- 0.3\n",
            "nosanos-id27-circulo2.png---75 -- 0.54\n",
            "nosanos-id19-circulo3.png---42 -- 0.3\n",
            "nosanos-id414-circulo3.png---75 -- 0.54\n",
            "nosanos-id19-circulo2.png---66 -- 0.48\n",
            "nosanos-id19-circulo1.png---78 -- 0.57\n",
            "nosanos-id25-circulo3.png---60 -- 0.43\n",
            "nosanos-id229-circulo1.png---51 -- 0.37\n",
            "nosanos-id15-circulo1.png---51 -- 0.37\n",
            "nosanos-id15-circulo2.png---36 -- 0.26\n",
            "nosanos-id209-circulo2.png---72 -- 0.52\n",
            "nosanos-id10-circulo1.png---99 -- 0.72\n",
            "nosanos-id34-circulo2.png---57 -- 0.41\n",
            "nosanos-id19-circulo4.png---57 -- 0.41\n",
            "nosanos-id109-circulo3.png---66 -- 0.48\n",
            "nosanos-id214-circulo1.png---87 -- 0.63\n",
            "nosanos-id416-circulo2.png---387 -- 2.8\n",
            "nosanos-id527-circulo2.png---45 -- 0.33\n",
            "nosanos-id15-circulo6.png---72 -- 0.52\n",
            "nosanos-id409-circulo1.png---63 -- 0.46\n",
            "nosanos-id105-circulo2.png---57 -- 0.41\n",
            "nosanos-id10-circulo2.png---60 -- 0.43\n",
            "nosanos-id15-circulo5.png---57 -- 0.41\n",
            "nosanos-id214-circulo2.png---63 -- 0.46\n",
            "nosanos-id425-circulo5.png---24 -- 0.17\n",
            "nosanos-id139-circulo4.png---48 -- 0.35\n",
            "nosanos-id228-circulo4.png---54 -- 0.39\n",
            "nosanos-id425-circulo2.png---354 -- 2.57\n",
            "nosanos-id228-circulo5.png---57 -- 0.41\n",
            "nosanos-id109-circulo1.png---45 -- 0.33\n",
            "nosanos-id34-circulo1.png---54 -- 0.39\n",
            "nosanos-id117-circulo4.png---45 -- 0.33\n",
            "nosanos-id214-circulo3.png---54 -- 0.39\n",
            "nosanos-id105-circulo3.png---63 -- 0.46\n",
            "nosanos-id228-circulo3.png---60 -- 0.43\n",
            "nosanos-id117-circulo3.png---72 -- 0.52\n",
            "nosanos-id229-circulo4.png---39 -- 0.28\n"
          ]
        }
      ]
    },
    {
      "cell_type": "code",
      "source": [
        "for image_name in dir_circles_images:\n",
        "  if image_name.startswith(\"sano\"):    \n",
        "    circles_sanos = detectCircles(image_name, dir_dataset_circles_directory)\n",
        "    percent_sanos = round(circles_sanos / circlesModel, 2)\n",
        "    toPrint = f'{image_name}---{circles_sanos} -- {percent_sanos}' \n",
        "    print(toPrint)"
      ],
      "metadata": {
        "colab": {
          "base_uri": "https://localhost:8080/"
        },
        "id": "dZR2rvSUwmqN",
        "outputId": "1dadc3c8-29da-4ed9-ed09-5653117d1c31"
      },
      "execution_count": 42,
      "outputs": [
        {
          "output_type": "stream",
          "name": "stdout",
          "text": [
            "sanos-id2-circulo4.png---15 -- 0.11\n",
            "sanos-id113-circulo5.png---42 -- 0.3\n",
            "sanos-id3-circulo2.png---87 -- 0.63\n",
            "sanos-id107-circulo1.png---81 -- 0.59\n",
            "sanos-id122-circulo4.png---57 -- 0.41\n",
            "sanos-id31-circulo5.png---78 -- 0.57\n",
            "sanos-id101-circulo4.png---51 -- 0.37\n",
            "sanos-id33-circulo4.png---78 -- 0.57\n",
            "sanos-id101-circulo2.png---54 -- 0.39\n",
            "sanos-id108-circulo3.png---66 -- 0.48\n",
            "sanos-id110-circulo1.png---60 -- 0.43\n",
            "sanos-id102-circulo1.png---57 -- 0.41\n",
            "sanos-id118-circulo2.png---60 -- 0.43\n",
            "sanos-id110-circulo3.png---63 -- 0.46\n",
            "sanos-id108-circulo1.png---42 -- 0.3\n",
            "sanos-id29-circulo1.png---54 -- 0.39\n",
            "sanos-id33-circulo3.png---48 -- 0.35\n",
            "sanos-id103-circulo4.png---69 -- 0.5\n",
            "sanos-id28-circulo4.png---33 -- 0.24\n",
            "sanos-id102-circulo3.png---72 -- 0.52\n",
            "sanos-id121-circulo3.png---57 -- 0.41\n",
            "sanos-id29-circulo3.png---81 -- 0.59\n",
            "sanos-id122-circulo5.png---51 -- 0.37\n",
            "sanos-id122-circulo1.png---66 -- 0.48\n",
            "sanos-id28-circulo2.png---39 -- 0.28\n",
            "sanos-id118-circulo1.png---72 -- 0.52\n",
            "sanos-id28-circulo3.png---51 -- 0.37\n",
            "sanos-id31-circulo2.png---72 -- 0.52\n",
            "sanos-id102-circulo2.png---72 -- 0.52\n",
            "sanos-id121-circulo2.png---57 -- 0.41\n",
            "sanos-id29-circulo4.png---45 -- 0.33\n",
            "sanos-id107-circulo2.png---36 -- 0.26\n",
            "sanos-id31-circulo1.png---45 -- 0.33\n",
            "sanos-id118-circulo3.png---45 -- 0.33\n",
            "sanos-id113-circulo4.png---45 -- 0.33\n",
            "sanos-id118-circulo4.png---63 -- 0.46\n",
            "sanos-id103-circulo3.png---45 -- 0.33\n",
            "sanos-id33-circulo1.png---63 -- 0.46\n",
            "sanos-id33-circulo2.png---81 -- 0.59\n",
            "sanos-id31-circulo3.png---105 -- 0.76\n",
            "sanos-id2-circulo5.png---15 -- 0.11\n",
            "sanos-id103-circulo1.png---138 -- 1.0\n",
            "sanos-id110-circulo2.png---42 -- 0.3\n",
            "sanos-id107-circulo3.png---66 -- 0.48\n",
            "sanos-id28-circulo1.png---72 -- 0.52\n",
            "sanos-id31-circulo4.png---48 -- 0.35\n",
            "sanos-id113-circulo1.png---75 -- 0.54\n",
            "sanos-id33-circulo5.png---66 -- 0.48\n",
            "sanos-id108-circulo5.png---75 -- 0.54\n",
            "sanos-id108-circulo2.png---69 -- 0.5\n",
            "sanos-id3-circulo1.png---102 -- 0.74\n",
            "sanos-id3-circulo3.png---180 -- 1.3\n",
            "sanos-id29-circulo2.png---57 -- 0.41\n",
            "sanos-id2-circulo3.png---18 -- 0.13\n",
            "sanos-id108-circulo4.png---30 -- 0.22\n",
            "sanos-id2-circulo2.png---66 -- 0.48\n",
            "sanos-id122-circulo2.png---51 -- 0.37\n",
            "sanos-id122-circulo3.png---48 -- 0.35\n",
            "sanos-id28-circulo5.png---36 -- 0.26\n",
            "sanos-id103-circulo2.png---93 -- 0.67\n",
            "sanos-id121-circulo1.png---78 -- 0.57\n",
            "sanos-id2-circulo1.png---21 -- 0.15\n",
            "sanos-id113-circulo3.png---48 -- 0.35\n",
            "sanos-id113-circulo2.png---60 -- 0.43\n",
            "sanos-id118-circulo5.png---66 -- 0.48\n",
            "sanos-id101-circulo1.png---57 -- 0.41\n",
            "sanos-id101-circulo3.png---66 -- 0.48\n",
            "sanos-id102-circulo4.png---78 -- 0.57\n"
          ]
        }
      ]
    }
  ]
}